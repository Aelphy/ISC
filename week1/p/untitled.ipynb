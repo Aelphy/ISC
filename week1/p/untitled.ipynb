{
 "cells": [
  {
   "cell_type": "markdown",
   "metadata": {
    "nbpresent": {
     "id": "13101ac1-2637-4d0f-9f1f-cd32215b02c3"
    },
    "slideshow": {
     "slide_type": "slide"
    }
   },
   "source": [
    "# СЛАУ\n",
    "## Нормы векторов и матриц. Обусловленность\n",
    "\n",
    "Цыбулин Иван ([tsybulin@crec.mipt.ru](mailto:tsybulin@crec.mipt.ru))"
   ]
  },
  {
   "cell_type": "markdown",
   "metadata": {
    "nbpresent": {
     "id": "31cc3d04-22a5-4773-b4e1-abfb09f8bbc2"
    },
    "slideshow": {
     "slide_type": "slide"
    }
   },
   "source": [
    "## Задача решения СЛАУ\n",
    "\n",
    "Будем рассматривать случай системы с невырожденной квадратной матрицей\n",
    "$$\n",
    "\\mathbf{Ax} = \\mathbf{b}\n",
    "\\qquad\n",
    "\\begin{pmatrix}\n",
    "a_{11} & a_{12} & \\dots & a_{1n}\\\\\n",
    "a_{21} & a_{22} & \\dots & a_{2n}\\\\\n",
    "\\vdots & \\vdots & \\ddots & \\vdots \\\\\n",
    "a_{n1} & a_{n2} & \\dots & a_{nn}\n",
    "\\end{pmatrix}\n",
    "\\begin{pmatrix}x_1\\\\x_2\\\\\\vdots\\\\x_n\\end{pmatrix} =\n",
    "\\begin{pmatrix}b_1\\\\b_2\\\\\\vdots\\\\b_n\\end{pmatrix} \n",
    "$$"
   ]
  },
  {
   "cell_type": "markdown",
   "metadata": {
    "nbpresent": {
     "id": "fa2d4b89-0d7a-41f1-8635-c5905d106cf3"
    },
    "slideshow": {
     "slide_type": "fragment"
    }
   },
   "source": [
    "Из линейной алгебоы известно, что система разрешима при $\\operatorname{det} \\mathbf{A} \\neq 0$ и при этом решение единственно."
   ]
  },
  {
   "cell_type": "markdown",
   "metadata": {
    "nbpresent": {
     "id": "16fd05b0-8ac8-4da2-8980-54d0d253d110"
    },
    "slideshow": {
     "slide_type": "slide"
    }
   },
   "source": [
    "## Что такое вырожденная матрица?\n",
    "\n",
    "С точки зрения вычислительной математики матрица никогда не бывает строго вырождена в смысле $\\operatorname{det}{A} = 0$. Но может ли небольшая коррекция коэффициентов быть решением проблемы $\\operatorname{det}{A} = 0$?"
   ]
  },
  {
   "cell_type": "markdown",
   "metadata": {
    "slideshow": {
     "slide_type": "fragment"
    }
   },
   "source": [
    "Рассмотрим следующие две системы, которые лишь немного отличаются\n",
    "$$\n",
    "\\begin{cases}\n",
    "x_1 + 2 x_2 & = 1\\\\\n",
    "2x_1 + 4.0001 x_2 &= 2\n",
    "\\end{cases}\n",
    "\\qquad\\qquad\n",
    "\\begin{cases}\n",
    "x_1 + 2 x_2 & = 1\\\\\n",
    "2x_1 + 4.0001 x_2 &= 2.0001\n",
    "\\end{cases}\n",
    "$$\n",
    "Их решения совершенно различны\n",
    "$$\n",
    "\\begin{cases}\n",
    "x_1 & = 1\\\\\n",
    "x_2 & = 0\n",
    "\\end{cases}\n",
    "\\qquad\\qquad\n",
    "\\begin{cases}\n",
    "x_1 & = -1\\\\\n",
    "x_2 & = 1\n",
    "\\end{cases}\n",
    "$$"
   ]
  },
  {
   "cell_type": "markdown",
   "metadata": {
    "nbpresent": {
     "id": "40af6766-3ae3-4acc-8417-439eb8968553"
    },
    "slideshow": {
     "slide_type": "slide"
    }
   },
   "source": [
    "## Нормы векторов\n",
    "\n",
    "Для количественного исследования данной проблемы нужно ввести некоторую норму для векторов. В вычислительной математике наиболее часто используются\n",
    "\n",
    "* $||\\mathbf x||_\\infty = \\max_i |x_i|$ &mdash; максимум-норма, Чебышевская норма, $\\ell_\\infty$ норма\n",
    "* $||\\mathbf x||_{\\ell_1} = \\sum_i |x_i|$ &mdash; Манхэттенская норма, $\\ell_1$ норма\n",
    "* $||\\mathbf x||_E = \\sqrt{(\\mathbf x, \\mathbf x)} = \\sqrt{\\sum_i x_i^2}$ &mdash; Евклидова норма\n",
    "\n",
    "![Norms](Norms.png)"
   ]
  },
  {
   "cell_type": "markdown",
   "metadata": {
    "nbpresent": {
     "id": "a67001a3-e51e-4a22-bdcd-249cde5581c1"
    },
    "slideshow": {
     "slide_type": "slide"
    }
   },
   "source": [
    "## Матричные нормы\n",
    "\n",
    "Говорят, что матричная норма $\\color{red}{\\|\\mathbf A\\|}$ *согласована* с векторной нормой $\\color{blue}{\\|\\mathbf x\\|}$, если для любой матрицы $\\mathbf A$ и любого вектора $\\mathbf x$ выполняется следующее неравенство\n",
    "$$\n",
    "\\color{blue}{\\|\\mathbf{Ax}\\|} \\leqslant \\color{red}{\\|\\mathbf A\\|} \\color{blue}{\\|\\mathbf x\\|}\n",
    "$$\n",
    "\n",
    "Вводят понятие матричной нормы $\\color{green}{\\|\\mathbf A\\|}$, *подчиненной* данной векторной норме $\\color{blue}{\\|\\mathbf x\\|}$\n",
    "$$\n",
    "\\color{green}{\\|\\mathbf A\\|} = \\sup_{\\mathbf x} \\frac{\\color{blue}{\\|\\mathbf{Ax}\\|}}{\\color{blue}{\\|\\mathbf x\\|}}\n",
    "$$\n",
    "Каждая векторная норма порождает свою подчиненную матричную норму. Подчиненная норма является согласованной."
   ]
  },
  {
   "cell_type": "markdown",
   "metadata": {
    "slideshow": {
     "slide_type": "slide"
    }
   },
   "source": [
    "## Стандартные подчиненные матричные нормы\n",
    "\n",
    "Доказывается, что\n",
    "* $\\|\\mathbf A\\|_\\infty = \\max_i \\sum_j |a_{ij}|$.\n",
    "* $\\|\\mathbf A\\|_{\\ell_1} = \\max_j \\sum_i |a_{ij}| = \\|\\mathbf A^\\top \\|_\\infty$.\n",
    "* $\\|\\mathbf A\\|_E = \\sigma_\\max(\\mathbf A) = \\sqrt{\\lambda_\\max(\\mathbf A^\\top \\mathbf A)}$\n",
    "  * для $\\mathbf A = \\mathbf A^\\top$, $\\|\\mathbf A\\|_E = \\max |\\lambda(\\mathbf A)|$\n",
    "  * для $\\mathbf A = \\mathbf A^\\top > 0$, $\\|\\mathbf A\\|_E = \\lambda_\\max(\\mathbf A)$\n",
    "  "
   ]
  },
  {
   "cell_type": "markdown",
   "metadata": {
    "nbpresent": {
     "id": "e730e690-97c9-4acd-bf81-4c5ab0bbd48e"
    },
    "slideshow": {
     "slide_type": "fragment"
    }
   },
   "source": [
    "**Задание**. Вычислить все три нормы для\n",
    "$$\n",
    "\\mathbf A = \\begin{pmatrix}\n",
    "3 & -1\\\\\n",
    "0 & 4\n",
    "\\end{pmatrix}\n",
    "$$"
   ]
  },
  {
   "cell_type": "markdown",
   "metadata": {
    "slideshow": {
     "slide_type": "slide"
    }
   },
   "source": [
    "## Число обусловленности для СЛАУ\n",
    "Расмотрим СЛАУ\n",
    "$$\n",
    "\\mathbf {Ax} = \\mathbf {b}\n",
    "$$\n",
    "и полученную из нее возмущением правой части\n",
    "$$\n",
    "\\mathbf {Az} = \\mathbf {b} + \\Delta \\mathbf {b}.\n",
    "$$\n",
    "Пусть $\\Delta \\mathbf x = \\mathbf z - \\mathbf x$.\n",
    "\n",
    "Нам хотелось бы оценить относительную погрешность решения $\\frac{\\|\\Delta \\mathbf x\\|}{\\|\\mathbf x\\|}$, связав ее с относительной погрешностью правой части $\\frac{\\|\\Delta \\mathbf b\\|}{\\|\\mathbf b\\|}$"
   ]
  },
  {
   "cell_type": "markdown",
   "metadata": {
    "slideshow": {
     "slide_type": "subslide"
    }
   },
   "source": [
    "Пользуясь тем, что $\\Delta \\mathbf x = \\mathbf A^{-1} \\Delta \\mathbf  b$, оценим\n",
    "$$\n",
    "\\frac{\\|\\Delta \\mathbf x\\|}{\\|\\mathbf x\\|} \\leqslant\n",
    "\\frac{\\|\\mathbf A^{-1}\\|\\|\\Delta \\mathbf b\\|}{\\|\\mathbf x\\|} = \n",
    "\\color{blue}{\\frac{\\|\\mathbf A^{-1}\\|\\|\\mathbf b\\|}{\\|\\mathbf x\\|}}\n",
    "\\frac{\\|\\Delta \\mathbf b\\|}{\\|\\mathbf b\\|}\n",
    "$$\n",
    "Величина \n",
    "$$\n",
    "\\nu(\\mathbf A, \\mathbf b) = \\frac{\\|\\mathbf A^{-1}\\|\\|\\mathbf b\\|}{\\|\\mathbf x\\|} \\equiv\n",
    "\\frac{\\|\\mathbf A^{-1}\\|\\|\\mathbf b\\|}{\\|\\mathbf A^{-1} \\mathbf b\\|}\n",
    "$$\n",
    "называется *числом обусловленности системы уравнений* $\\mathbf {Ax} = \\mathbf b$.\n",
    "$$\n",
    "\\frac{\\|\\Delta \\mathbf x\\|}{\\|\\mathbf x\\|}  \\leqslant \n",
    "\\nu(\\mathbf A, \\mathbf b)\n",
    "\\frac{\\|\\Delta \\mathbf b\\|}{\\|\\mathbf b\\|} \n",
    "$$"
   ]
  },
  {
   "cell_type": "code",
   "execution_count": 13,
   "metadata": {
    "slideshow": {
     "slide_type": "subslide"
    }
   },
   "outputs": [
    {
     "name": "stdout",
     "output_type": "stream",
     "text": [
      "nu_inf(A, b) = 120002.0\n",
      "nu_1(A, b) = 180003.0\n",
      "nu_E(A, b) = 111805.187737\n"
     ]
    }
   ],
   "source": [
    "import numpy as np\n",
    "from numpy.linalg import norm, inv\n",
    "\n",
    "def nu(A, b, kind = np.inf):\n",
    "    return norm(inv(A), kind) * norm(b, kind) / norm(inv(A).dot(b), kind)\n",
    "\n",
    "eps = 0.0001\n",
    "A = np.array([[1, 2], [2, 4 + eps]])\n",
    "b = np.array([1, 2])\n",
    "print('nu_inf(A, b) =', nu(A, b, np.inf))\n",
    "print('nu_1(A, b) =', nu(A, b, 1))\n",
    "print('nu_E(A, b) =', nu(A, b, 2))"
   ]
  },
  {
   "cell_type": "markdown",
   "metadata": {
    "slideshow": {
     "slide_type": "slide"
    }
   },
   "source": [
    "## Число обусловленности матрицы\n",
    "\n",
    "Насколько плохо может быть обусловлена система с данной матрицей $\\mathbf A$? Можно ли за счет выбора правой части $\\mathbf b$ cделать систему сколь угодно плохой? Оказывается, нет.\n",
    "\n",
    "$$\n",
    "\\nu(\\mathbf A, \\mathbf b) = \n",
    "\\frac{\\|\\mathbf A^{-1}\\| \\|\\mathbf b\\|}{\\|\\mathbf A^{-1} \\mathbf b\\|} =\n",
    "\\frac{\\|\\mathbf A^{-1}\\| \\|\\mathbf {Ax}\\|}{\\|\\mathbf x\\|} \\leqslant\n",
    "\\|\\mathbf A\\|\\|\\mathbf A^{-1}\\|.\n",
    "$$\n",
    "Последнаяя величина зависит лишь от матрицы $\\mathbf A$ и называется *числом обусловленности матрицы*\n",
    "$$\n",
    "\\mu(\\mathbf A) = \\|\\mathbf A\\|\\|\\mathbf A^{-1}\\|\n",
    "$$\n",
    "Матрицу можно считать вырожденной, если ее число обусловленности превосходит $\\frac{1}{\\delta}$, где $\\delta$ &mdash; относительная погрешность выполнения машинных операций."
   ]
  },
  {
   "cell_type": "code",
   "execution_count": 15,
   "metadata": {
    "slideshow": {
     "slide_type": "subslide"
    }
   },
   "outputs": [
    {
     "name": "stdout",
     "output_type": "stream",
     "text": [
      "mu_inf(A) = 360012.000101\n",
      "mu_1(A) = 360012.000101\n",
      "mu_E(A) = 250008.000097\n"
     ]
    }
   ],
   "source": [
    "def mu(A, kind = np.inf):\n",
    "    return norm(inv(A), kind) * norm(A, kind)\n",
    "\n",
    "eps = 0.0001\n",
    "A = np.array([[1, 2], [2, 4 + eps]])\n",
    "print('mu_inf(A) =', mu(A, np.inf))\n",
    "print('mu_1(A) =', mu(A, 1))\n",
    "print('mu_E(A) =', mu(A, 2))"
   ]
  },
  {
   "cell_type": "markdown",
   "metadata": {
    "slideshow": {
     "slide_type": "slide"
    }
   },
   "source": [
    "## Плохо обусловленные задачи\n",
    "\n",
    "Решение СЛАУ &mdash; пример потенциально *плохо обусловленной задачи*, то есть задачи, в которой небольшое возмущение входных данных может приводить к существенным отличиям в решении. Для таких задач необходимо задавать входные данные с большой точностью, иначе результат может получиться совершенно недостоверным."
   ]
  }
 ],
 "metadata": {
  "anaconda-cloud": {},
  "celltoolbar": "Slideshow",
  "kernelspec": {
   "display_name": "Python 3 (ipykernel)",
   "language": "python",
   "name": "python3"
  },
  "language_info": {
   "codemirror_mode": {
    "name": "ipython",
    "version": 3
   },
   "file_extension": ".py",
   "mimetype": "text/x-python",
   "name": "python",
   "nbconvert_exporter": "python",
   "pygments_lexer": "ipython3",
   "version": "3.10.8"
  },
  "livereveal": {
   "theme": "beige",
   "transition": "none"
  },
  "nbpresent": {
   "slides": {
    "1ffee25c-251f-4cbf-af3d-a1d5521081b9": {
     "id": "1ffee25c-251f-4cbf-af3d-a1d5521081b9",
     "prev": "eb43fa9f-eb7c-417b-ab1a-99371ff452e2",
     "regions": {
      "2e1a7b46-c253-4096-a0a5-dfbc6cfb086e": {
       "attrs": {
        "height": 0.8,
        "width": 0.8,
        "x": 0.1,
        "y": 0.1
       },
       "content": {
        "cell": "bf40e897-f1f8-4e69-b826-fe53fb761aad",
        "part": "whole"
       },
       "id": "2e1a7b46-c253-4096-a0a5-dfbc6cfb086e"
      }
     }
    },
    "37c43f64-6426-4a98-8de1-a6ca1dd72190": {
     "id": "37c43f64-6426-4a98-8de1-a6ca1dd72190",
     "prev": "d2b700ea-e44e-4bed-9ce4-ddf1532b44cb",
     "regions": {
      "45a20e24-b33f-4c55-8df2-e96075b5e2af": {
       "attrs": {
        "height": 0.8,
        "width": 0.8,
        "x": 0.1,
        "y": 0.1
       },
       "content": {
        "cell": "e730e690-97c9-4acd-bf81-4c5ab0bbd48e",
        "part": "whole"
       },
       "id": "45a20e24-b33f-4c55-8df2-e96075b5e2af"
      }
     }
    },
    "5bf0841a-23d1-413e-a557-911111e3e336": {
     "id": "5bf0841a-23d1-413e-a557-911111e3e336",
     "prev": "ebd3a807-2380-4bd6-8e58-c9424f3ed713",
     "regions": {
      "3c8adac9-5366-49e9-96ab-965c77e83485": {
       "attrs": {
        "height": 0.8,
        "width": 0.8,
        "x": 0.1,
        "y": 0.1
       },
       "content": {
        "cell": "2e08a439-2699-4ecf-9189-dfbbf745ad4e",
        "part": "whole"
       },
       "id": "3c8adac9-5366-49e9-96ab-965c77e83485"
      }
     }
    },
    "60ffd9bc-f20d-41e5-8771-5f11695177c6": {
     "id": "60ffd9bc-f20d-41e5-8771-5f11695177c6",
     "prev": "97575fe4-de27-4833-b616-7479f99519d0",
     "regions": {
      "807a955a-60c8-4f03-8734-54dfd52113d6": {
       "attrs": {
        "height": 0.8,
        "width": 0.8,
        "x": 0.1,
        "y": 0.1
       },
       "content": {
        "cell": "795c8121-f820-4edc-aeba-fc399b38f4b2",
        "part": "whole"
       },
       "id": "807a955a-60c8-4f03-8734-54dfd52113d6"
      }
     }
    },
    "623d8bc9-43df-451f-b862-76c2b54708ea": {
     "id": "623d8bc9-43df-451f-b862-76c2b54708ea",
     "prev": "eded54a5-7710-4ab6-8229-3ca4029d1ae7",
     "regions": {
      "42b1d4d4-2905-454b-b564-92f58dec8f81": {
       "attrs": {
        "height": 0.8,
        "width": 0.8,
        "x": 0.1,
        "y": 0.1
       },
       "content": {
        "cell": "16fd05b0-8ac8-4da2-8980-54d0d253d110",
        "part": "whole"
       },
       "id": "42b1d4d4-2905-454b-b564-92f58dec8f81"
      }
     }
    },
    "6dabcfe1-1c90-4893-8f01-c39e431f00bb": {
     "id": "6dabcfe1-1c90-4893-8f01-c39e431f00bb",
     "prev": "37c43f64-6426-4a98-8de1-a6ca1dd72190",
     "regions": {
      "1126b4c4-7df3-4db1-962b-abe099db9928": {
       "attrs": {
        "height": 0.8,
        "width": 0.8,
        "x": 0.1,
        "y": 0.1
       },
       "content": {
        "cell": "54519c05-1028-4e5c-a2d2-e21f821e99aa",
        "part": "whole"
       },
       "id": "1126b4c4-7df3-4db1-962b-abe099db9928"
      }
     }
    },
    "91753ba8-05fe-465f-806d-0faf4a21a031": {
     "id": "91753ba8-05fe-465f-806d-0faf4a21a031",
     "prev": "5bf0841a-23d1-413e-a557-911111e3e336",
     "regions": {
      "eb271beb-70d0-452e-b896-43695be4ae85": {
       "attrs": {
        "height": 0.8,
        "width": 0.8,
        "x": 0.1,
        "y": 0.1
       },
       "content": {
        "cell": "31cc3d04-22a5-4773-b4e1-abfb09f8bbc2",
        "part": "whole"
       },
       "id": "eb271beb-70d0-452e-b896-43695be4ae85"
      }
     }
    },
    "97575fe4-de27-4833-b616-7479f99519d0": {
     "id": "97575fe4-de27-4833-b616-7479f99519d0",
     "prev": "b8aebb38-1266-40c2-928a-026f9d33ec5c",
     "regions": {
      "01deb5d1-73e8-4d64-b93e-e7646647af3b": {
       "attrs": {
        "height": 0.8,
        "width": 0.8,
        "x": 0.1,
        "y": 0.1
       },
       "content": {
        "cell": "7f2bdffe-4f2a-446b-8805-d4fd262fced1",
        "part": "whole"
       },
       "id": "01deb5d1-73e8-4d64-b93e-e7646647af3b"
      }
     }
    },
    "9cc88d72-9ac9-4c24-96d5-abc94cea6e92": {
     "id": "9cc88d72-9ac9-4c24-96d5-abc94cea6e92",
     "prev": "1ffee25c-251f-4cbf-af3d-a1d5521081b9",
     "regions": {
      "78febecd-5100-493b-8f0d-0cc35ceae42e": {
       "attrs": {
        "height": 0.8,
        "width": 0.8,
        "x": 0.1,
        "y": 0.1
       },
       "content": {
        "cell": "bef00443-818c-4614-aa63-8a2e117462ec",
        "part": "whole"
       },
       "id": "78febecd-5100-493b-8f0d-0cc35ceae42e"
      }
     }
    },
    "a5df524d-67a8-4ae1-8258-9231728bdd14": {
     "id": "a5df524d-67a8-4ae1-8258-9231728bdd14",
     "prev": "623d8bc9-43df-451f-b862-76c2b54708ea",
     "regions": {
      "68e876ca-f943-4b2e-8268-439db992b310": {
       "attrs": {
        "height": 0.8,
        "width": 0.8,
        "x": 0.1,
        "y": 0.1
       },
       "content": {
        "cell": "40af6766-3ae3-4acc-8417-439eb8968553",
        "part": "whole"
       },
       "id": "68e876ca-f943-4b2e-8268-439db992b310"
      }
     }
    },
    "b62355d8-8b93-4dfc-8016-6548952c0f8c": {
     "id": "b62355d8-8b93-4dfc-8016-6548952c0f8c",
     "prev": "f59840cf-124e-4d10-8b89-3aafe98f38ba",
     "regions": {
      "381cc6bd-bde3-4d58-8277-99fbd69c7a4f": {
       "attrs": {
        "height": 0.8,
        "width": 0.8,
        "x": 0.1,
        "y": 0.1
       },
       "content": {
        "cell": "b92c1827-c799-44b9-b770-f45e95c917da",
        "part": "whole"
       },
       "id": "381cc6bd-bde3-4d58-8277-99fbd69c7a4f"
      }
     }
    },
    "b8aebb38-1266-40c2-928a-026f9d33ec5c": {
     "id": "b8aebb38-1266-40c2-928a-026f9d33ec5c",
     "prev": "9cc88d72-9ac9-4c24-96d5-abc94cea6e92",
     "regions": {
      "1bc2d24e-0782-443b-83a4-bc683c5ac6cb": {
       "attrs": {
        "height": 0.8,
        "width": 0.8,
        "x": 0.1,
        "y": 0.1
       },
       "content": {
        "cell": "cbb3d96a-fdd6-436e-86b6-1be446b43e84",
        "part": "whole"
       },
       "id": "1bc2d24e-0782-443b-83a4-bc683c5ac6cb"
      }
     }
    },
    "d2b700ea-e44e-4bed-9ce4-ddf1532b44cb": {
     "id": "d2b700ea-e44e-4bed-9ce4-ddf1532b44cb",
     "prev": "a5df524d-67a8-4ae1-8258-9231728bdd14",
     "regions": {
      "474bc80d-f262-4e62-afae-4565c0979e03": {
       "attrs": {
        "height": 0.8,
        "width": 0.8,
        "x": 0.1,
        "y": 0.1
       },
       "content": {
        "cell": "a67001a3-e51e-4a22-bdcd-249cde5581c1",
        "part": "whole"
       },
       "id": "474bc80d-f262-4e62-afae-4565c0979e03"
      }
     }
    },
    "d989978f-1d85-4802-953f-0e82f1a0fd51": {
     "id": "d989978f-1d85-4802-953f-0e82f1a0fd51",
     "prev": null,
     "regions": {
      "e3ddb97a-209b-4c70-91d7-df0cadcefb0d": {
       "attrs": {
        "height": 0.8,
        "width": 0.8,
        "x": 0.1,
        "y": 0.1
       },
       "content": {
        "cell": "13101ac1-2637-4d0f-9f1f-cd32215b02c3",
        "part": "whole"
       },
       "id": "e3ddb97a-209b-4c70-91d7-df0cadcefb0d"
      }
     }
    },
    "eb43fa9f-eb7c-417b-ab1a-99371ff452e2": {
     "id": "eb43fa9f-eb7c-417b-ab1a-99371ff452e2",
     "prev": "b62355d8-8b93-4dfc-8016-6548952c0f8c",
     "regions": {
      "b9415d21-f857-4a93-a788-c7dc51dedea0": {
       "attrs": {
        "height": 0.8,
        "width": 0.8,
        "x": 0.1,
        "y": 0.1
       },
       "content": {
        "cell": "e29b9590-fc86-46fd-83be-3ff48c7a8df4",
        "part": "whole"
       },
       "id": "b9415d21-f857-4a93-a788-c7dc51dedea0"
      }
     }
    },
    "ebd3a807-2380-4bd6-8e58-c9424f3ed713": {
     "id": "ebd3a807-2380-4bd6-8e58-c9424f3ed713",
     "prev": "f3fb61c6-f807-4942-8c41-0e80240a5146",
     "regions": {
      "7eaeb4e2-d47e-43e4-92c4-ed8cc1e9aac7": {
       "attrs": {
        "height": 0.8,
        "width": 0.8,
        "x": 0.1,
        "y": 0.1
       },
       "content": {
        "cell": "412353c7-42b2-42c7-8702-69568c809a97",
        "part": "whole"
       },
       "id": "7eaeb4e2-d47e-43e4-92c4-ed8cc1e9aac7"
      }
     }
    },
    "eded54a5-7710-4ab6-8229-3ca4029d1ae7": {
     "id": "eded54a5-7710-4ab6-8229-3ca4029d1ae7",
     "prev": "91753ba8-05fe-465f-806d-0faf4a21a031",
     "regions": {
      "816c3f73-4147-4cdb-b7d1-f5f82fa6003b": {
       "attrs": {
        "height": 0.8,
        "width": 0.8,
        "x": 0.1,
        "y": 0.1
       },
       "content": {
        "cell": "fa2d4b89-0d7a-41f1-8635-c5905d106cf3",
        "part": "whole"
       },
       "id": "816c3f73-4147-4cdb-b7d1-f5f82fa6003b"
      }
     }
    },
    "f3fb61c6-f807-4942-8c41-0e80240a5146": {
     "id": "f3fb61c6-f807-4942-8c41-0e80240a5146",
     "prev": "d989978f-1d85-4802-953f-0e82f1a0fd51",
     "regions": {
      "4f7abbfb-161b-44ce-bdab-05ef0b2a5542": {
       "attrs": {
        "height": 0.8,
        "width": 0.8,
        "x": 0.1,
        "y": 0.1
       },
       "content": {
        "cell": "8ce7bf3f-66e0-4462-a540-e87bceeadb7f",
        "part": "whole"
       },
       "id": "4f7abbfb-161b-44ce-bdab-05ef0b2a5542"
      }
     }
    },
    "f59840cf-124e-4d10-8b89-3aafe98f38ba": {
     "id": "f59840cf-124e-4d10-8b89-3aafe98f38ba",
     "prev": "6dabcfe1-1c90-4893-8f01-c39e431f00bb",
     "regions": {
      "e67fa4b9-f237-40ff-8621-fcdbfdd83101": {
       "attrs": {
        "height": 0.8,
        "width": 0.8,
        "x": 0.1,
        "y": 0.1
       },
       "content": {
        "cell": "4ae9a30c-81bc-4396-90d8-939a8e59f287",
        "part": "whole"
       },
       "id": "e67fa4b9-f237-40ff-8621-fcdbfdd83101"
      }
     }
    }
   },
   "themes": {
    "default": "c04eebe0-c348-41e9-bcfb-a65d4bd126df",
    "theme": {
     "c04eebe0-c348-41e9-bcfb-a65d4bd126df": {
      "id": "c04eebe0-c348-41e9-bcfb-a65d4bd126df",
      "palette": {
       "19cc588f-0593-49c9-9f4b-e4d7cc113b1c": {
        "id": "19cc588f-0593-49c9-9f4b-e4d7cc113b1c",
        "rgb": [
         252,
         252,
         252
        ]
       },
       "31af15d2-7e15-44c5-ab5e-e04b16a89eff": {
        "id": "31af15d2-7e15-44c5-ab5e-e04b16a89eff",
        "rgb": [
         68,
         68,
         68
        ]
       },
       "50f92c45-a630-455b-aec3-788680ec7410": {
        "id": "50f92c45-a630-455b-aec3-788680ec7410",
        "rgb": [
         155,
         177,
         192
        ]
       },
       "c5cc3653-2ee1-402a-aba2-7caae1da4f6c": {
        "id": "c5cc3653-2ee1-402a-aba2-7caae1da4f6c",
        "rgb": [
         43,
         126,
         184
        ]
       },
       "efa7f048-9acb-414c-8b04-a26811511a21": {
        "id": "efa7f048-9acb-414c-8b04-a26811511a21",
        "rgb": [
         25.118061674008803,
         73.60176211453744,
         107.4819383259912
        ]
       }
      },
      "rules": {
       "blockquote": {
        "color": "50f92c45-a630-455b-aec3-788680ec7410"
       },
       "code": {
        "font-family": "Anonymous Pro"
       },
       "h1": {
        "color": "c5cc3653-2ee1-402a-aba2-7caae1da4f6c",
        "font-family": "Lato",
        "font-size": 8
       },
       "h2": {
        "color": "c5cc3653-2ee1-402a-aba2-7caae1da4f6c",
        "font-family": "Lato",
        "font-size": 6
       },
       "h3": {
        "color": "50f92c45-a630-455b-aec3-788680ec7410",
        "font-family": "Lato",
        "font-size": 5.5
       },
       "h4": {
        "color": "c5cc3653-2ee1-402a-aba2-7caae1da4f6c",
        "font-family": "Lato",
        "font-size": 5
       },
       "h5": {
        "font-family": "Lato"
       },
       "h6": {
        "font-family": "Lato"
       },
       "h7": {
        "font-family": "Lato"
       },
       "pre": {
        "font-family": "Anonymous Pro",
        "font-size": 4
       }
      },
      "text-base": {
       "font-family": "Merriweather",
       "font-size": 4
      }
     },
     "f0b95bb9-67a7-4d14-bf09-657a5b556dbe": {
      "id": "f0b95bb9-67a7-4d14-bf09-657a5b556dbe",
      "palette": {
       "19cc588f-0593-49c9-9f4b-e4d7cc113b1c": {
        "id": "19cc588f-0593-49c9-9f4b-e4d7cc113b1c",
        "rgb": [
         252,
         252,
         252
        ]
       },
       "31af15d2-7e15-44c5-ab5e-e04b16a89eff": {
        "id": "31af15d2-7e15-44c5-ab5e-e04b16a89eff",
        "rgb": [
         68,
         68,
         68
        ]
       },
       "50f92c45-a630-455b-aec3-788680ec7410": {
        "id": "50f92c45-a630-455b-aec3-788680ec7410",
        "rgb": [
         155,
         177,
         192
        ]
       },
       "c5cc3653-2ee1-402a-aba2-7caae1da4f6c": {
        "id": "c5cc3653-2ee1-402a-aba2-7caae1da4f6c",
        "rgb": [
         43,
         126,
         184
        ]
       },
       "efa7f048-9acb-414c-8b04-a26811511a21": {
        "id": "efa7f048-9acb-414c-8b04-a26811511a21",
        "rgb": [
         25.118061674008803,
         73.60176211453744,
         107.4819383259912
        ]
       }
      },
      "rules": {
       "blockquote": {
        "color": "50f92c45-a630-455b-aec3-788680ec7410"
       },
       "code": {
        "font-family": "Anonymous Pro"
       },
       "h1": {
        "color": "c5cc3653-2ee1-402a-aba2-7caae1da4f6c",
        "font-family": "Lato",
        "font-size": 8
       },
       "h2": {
        "color": "c5cc3653-2ee1-402a-aba2-7caae1da4f6c",
        "font-family": "Lato",
        "font-size": 6
       },
       "h3": {
        "color": "50f92c45-a630-455b-aec3-788680ec7410",
        "font-family": "Lato",
        "font-size": 5.5
       },
       "h4": {
        "color": "c5cc3653-2ee1-402a-aba2-7caae1da4f6c",
        "font-family": "Lato",
        "font-size": 5
       },
       "h5": {
        "font-family": "Lato"
       },
       "h6": {
        "font-family": "Lato"
       },
       "h7": {
        "font-family": "Lato"
       },
       "pre": {
        "font-family": "Anonymous Pro",
        "font-size": 4
       }
      },
      "text-base": {
       "font-family": "Merriweather",
       "font-size": 4
      }
     }
    }
   }
  }
 },
 "nbformat": 4,
 "nbformat_minor": 1
}
