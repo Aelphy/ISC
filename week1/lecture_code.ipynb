{
 "cells": [
  {
   "cell_type": "markdown",
   "metadata": {
    "slideshow": {
     "slide_type": "slide"
    }
   },
   "source": [
    "## Machine zero exists"
   ]
  },
  {
   "cell_type": "code",
   "execution_count": null,
   "metadata": {},
   "outputs": [],
   "source": [
    "import numpy as np\n",
    "\n",
    "n = 1.0\n",
    "d = np.inf\n",
    "i = 0\n",
    "\n",
    "while d > 0:\n",
    "    d = n - n / 2\n",
    "    n = n / 2\n",
    "    i += 1\n",
    "\n",
    "(1 / 2)**(i - 2)"
   ]
  },
  {
   "cell_type": "code",
   "execution_count": null,
   "metadata": {},
   "outputs": [],
   "source": [
    "(1 / 2)**(i - 1)"
   ]
  },
  {
   "cell_type": "markdown",
   "metadata": {},
   "source": [
    "## Float compute is not precise"
   ]
  },
  {
   "cell_type": "code",
   "execution_count": null,
   "metadata": {
    "slideshow": {
     "slide_type": "fragment"
    }
   },
   "outputs": [],
   "source": [
    "c = np.random.rand()\n",
    "a = np.random.rand()\n",
    "b = np.float32(c / a)\n",
    "print('{0:10.16f}'.format(b))\n",
    "print(a * b - c)"
   ]
  },
  {
   "cell_type": "code",
   "execution_count": null,
   "metadata": {
    "slideshow": {
     "slide_type": "fragment"
    }
   },
   "outputs": [],
   "source": [
    "a = np.array(7**2 + 0.7**2, dtype=np.float32)\n",
    "b = np.sqrt(a)\n",
    "print('{0:10.16f}'.format(b ** 2 - a))"
   ]
  },
  {
   "cell_type": "code",
   "execution_count": null,
   "metadata": {},
   "outputs": [],
   "source": [
    "a = np.array(7**2 + 0.7**2, dtype=np.float64)\n",
    "b = np.sqrt(a)\n",
    "print('{0:10.16f}'.format(b ** 2 - a))"
   ]
  },
  {
   "cell_type": "code",
   "execution_count": null,
   "metadata": {
    "slideshow": {
     "slide_type": "fragment"
    }
   },
   "outputs": [],
   "source": [
    "a = np.array(2.7182, dtype=np.float32)\n",
    "b = np.log(a)\n",
    "print(np.exp(b) - a)"
   ]
  },
  {
   "cell_type": "markdown",
   "metadata": {
    "slideshow": {
     "slide_type": "slide"
    }
   },
   "source": [
    "\n",
    "- For some values the inverse functions give exact answers\n",
    "- The relative accuracy should be kept due to the IEEE standard.\n",
    "- Does not hold for many modern GPU and other accelerators."
   ]
  },
  {
   "cell_type": "markdown",
   "metadata": {},
   "source": [
    "## Vector and Matrix norms\n",
    "\n",
    "We consider the system of linear equations\n",
    "\n",
    "$$\n",
    "\\mathbf{Ax} = \\mathbf{b}\n",
    "\\qquad\n",
    "\\begin{pmatrix}\n",
    "a_{11} & a_{12} & \\dots & a_{1n}\\\\\n",
    "a_{21} & a_{22} & \\dots & a_{2n}\\\\\n",
    "\\vdots & \\vdots & \\ddots & \\vdots \\\\\n",
    "a_{n1} & a_{n2} & \\dots & a_{nn}\n",
    "\\end{pmatrix}\n",
    "\\begin{pmatrix}x_1\\\\x_2\\\\\\vdots\\\\x_n\\end{pmatrix} =\n",
    "\\begin{pmatrix}b_1\\\\b_2\\\\\\vdots\\\\b_n\\end{pmatrix} \n",
    "$$\n",
    "\n",
    "If $\\operatorname{det} \\mathbf{A} \\neq 0$, there is a unique solution to the system."
   ]
  },
  {
   "cell_type": "markdown",
   "metadata": {},
   "source": [
    "Let's consider two linear systems with slight numerical differences\n",
    "$$\n",
    "\\begin{cases}\n",
    "x_1 + 2 x_2 & = 1\\\\\n",
    "2x_1 + 4.0001 x_2 &= 2\n",
    "\\end{cases}\n",
    "\\qquad\\qquad\n",
    "\\begin{cases}\n",
    "x_1 + 2 x_2 & = 1\\\\\n",
    "2x_1 + 4.0001 x_2 &= 2.0001\n",
    "\\end{cases}\n",
    "$$\n",
    "Their solutions are completely different\n",
    "$$\n",
    "\\begin{cases}\n",
    "x_1 & = 1\\\\\n",
    "x_2 & = 0\n",
    "\\end{cases}\n",
    "\\qquad\\qquad\n",
    "\\begin{cases}\n",
    "x_1 & = -1\\\\\n",
    "x_2 & = 1\n",
    "\\end{cases}\n",
    "$$"
   ]
  },
  {
   "cell_type": "markdown",
   "metadata": {},
   "source": [
    "## Vector norms\n",
    "\n",
    "We need to compare vectors and matrices\n",
    "\n",
    "* $||\\mathbf x||_\\infty = \\max_i |x_i|$ &mdash; max-norm, $\\ell_\\infty$ norm\n",
    "* $||\\mathbf x||_{\\ell_1} = \\sum_i |x_i|$ &mdash; Manhattan norm, $\\ell_1$ norm\n",
    "* $||\\mathbf x||_E = \\sqrt{(\\mathbf x, \\mathbf x)} = \\sqrt{\\sum_i x_i^2}$ &mdash; Euclidean norm, $\\ell_2$ norm \n"
   ]
  },
  {
   "cell_type": "code",
   "execution_count": null,
   "metadata": {},
   "outputs": [],
   "source": [
    "import matplotlib.pyplot as plt\n",
    "\n",
    "for p in [np.inf, 2, 1]:\n",
    "    M = 40000\n",
    "    a = np.random.randn(M, 2)\n",
    "    b = []\n",
    "    for i in range(M):\n",
    "        if np.linalg.norm(a[i, :], p) <= 1:\n",
    "            b.append(a[i, :])\n",
    "    b = np.array(b)\n",
    "    plt.plot(b[:, 0], b[:, 1], '.', label='$p={0:}$'.format(p))\n",
    "    plt.axis('equal')\n",
    "    plt.title('Unit disk in the p-th norm')\n",
    "    plt.legend(loc='best')"
   ]
  },
  {
   "cell_type": "markdown",
   "metadata": {},
   "source": [
    "## Matrix norms\n",
    "\n",
    "Matrix norm $\\color{red}{\\|\\mathbf A\\|}$ is *induced* by $\\color{blue}{\\|\\mathbf x\\|}$, if for every $\\mathbf A$ and every $\\mathbf x$ the following is true\n",
    "$$\n",
    "\\color{blue}{\\|\\mathbf{Ax}\\|} \\leqslant \\color{red}{\\|\\mathbf A\\|} \\color{blue}{\\|\\mathbf x\\|}\n",
    "$$\n",
    "\n",
    "Matrix norm $\\color{green}{\\|\\mathbf A\\|}$, *induced* by vector norm $\\color{blue}{\\|\\mathbf x\\|}$\n",
    "$$\n",
    "\\color{green}{\\|\\mathbf A\\|} = \\sup_{\\mathbf x} \\frac{\\color{blue}{\\|\\mathbf{Ax}\\|}}{\\color{blue}{\\|\\mathbf x\\|}}\n",
    "$$\n",
    "Every vector norm produces an induced norm."
   ]
  },
  {
   "cell_type": "markdown",
   "metadata": {},
   "source": [
    "## Standard induced matrix norms\n",
    "\n",
    "* $\\|\\mathbf A\\|_\\infty = \\max_i \\sum_j |a_{ij}|$.\n",
    "* $\\|\\mathbf A\\|_{\\ell_1} = \\max_j \\sum_i |a_{ij}| = \\|\\mathbf A^\\top \\|_\\infty$.\n",
    "* $\\|\\mathbf A\\|_E = \\sigma_\\max(\\mathbf A) = \\sqrt{\\lambda_\\max(\\mathbf A^\\top \\mathbf A)}$\n",
    "    * for $\\mathbf A = \\mathbf A^\\top$, $\\|\\mathbf A\\|_E = \\max |\\lambda(\\mathbf A)|$\n",
    "    * for $\\mathbf A = \\mathbf A^\\top > 0$, $\\|\\mathbf A\\|_E = \\lambda_\\max(\\mathbf A)$\n",
    "  "
   ]
  },
  {
   "cell_type": "markdown",
   "metadata": {},
   "source": [
    "**Quiz**. Compute all 3 norms\n",
    "$$\n",
    "\\mathbf A = \\begin{pmatrix}\n",
    "3 & -1\\\\\n",
    "0 & 4\n",
    "\\end{pmatrix}\n",
    "$$"
   ]
  },
  {
   "cell_type": "code",
   "execution_count": null,
   "metadata": {},
   "outputs": [],
   "source": []
  }
 ],
 "metadata": {
  "anaconda-cloud": {},
  "kernelspec": {
   "display_name": "Python 3 (ipykernel)",
   "language": "python",
   "name": "python3"
  },
  "language_info": {
   "codemirror_mode": {
    "name": "ipython",
    "version": 3
   },
   "file_extension": ".py",
   "mimetype": "text/x-python",
   "name": "python",
   "nbconvert_exporter": "python",
   "pygments_lexer": "ipython3",
   "version": "3.10.8"
  },
  "nav_menu": {},
  "toc": {
   "nav_menu": {},
   "number_sections": false,
   "sideBar": true,
   "skip_h1_title": false,
   "title_cell": "Table of Contents",
   "title_sidebar": "Contents",
   "toc_cell": false,
   "toc_position": {},
   "toc_section_display": "block",
   "toc_window_display": false
  }
 },
 "nbformat": 4,
 "nbformat_minor": 4
}
