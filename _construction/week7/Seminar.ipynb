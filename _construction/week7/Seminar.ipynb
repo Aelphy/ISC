{
 "cells": [
  {
   "cell_type": "markdown",
   "metadata": {},
   "source": [
    "# Instructions: \n",
    "\n",
    "This time you start the development of a helpfull datastructures and algorithms, so you can implement them in a separate python files and then show the tests, you have done with your implementation in the notebook file.\n",
    "Submission would consist of zip with all your implementations (organized in filders nicely) and notebook file with tests and report."
   ]
  },
  {
   "cell_type": "markdown",
   "metadata": {},
   "source": [
    "# Problem 1. 1 Point\n",
    "\n",
    "Implement a BFS and DFS generator functions (do not use ready implementations).\n",
    "Test them on [ego-Facebook](https://snap.stanford.edu/data/) graph. Compare run times and memory consumption."
   ]
  },
  {
   "cell_type": "code",
   "execution_count": null,
   "metadata": {},
   "outputs": [],
   "source": []
  },
  {
   "cell_type": "markdown",
   "metadata": {},
   "source": [
    "# Problem 2. 2 Point\n",
    "\n",
    "Implement a class for Heap data structure (do not use ready implementations).\n",
    "Implement `heap_sort` function which takes array as input and returns sorted version of the array.\n",
    "Compare speed of you algorithm with built-in Python `sorted()` function."
   ]
  },
  {
   "cell_type": "code",
   "execution_count": null,
   "metadata": {},
   "outputs": [],
   "source": []
  },
  {
   "cell_type": "markdown",
   "metadata": {},
   "source": [
    "# Problem 3. 3.5 Point\n",
    "\n",
    "Implement Prim and Kruskal algorithms (do not use ready implementations).\n",
    "Test them on [ego-Facebook](https://snap.stanford.edu/data/) graph.\n",
    "Compare run times and memory consumption."
   ]
  },
  {
   "cell_type": "code",
   "execution_count": null,
   "metadata": {},
   "outputs": [],
   "source": []
  },
  {
   "cell_type": "markdown",
   "metadata": {},
   "source": [
    "# Problem 4. 3.5 Point\n",
    "\n",
    "Implement Dijkstra algorithm.\n",
    "Use it to find the longest shortest path in [ego-Facebook](https://snap.stanford.edu/data/) graph (the longest distance between two connected users)."
   ]
  },
  {
   "cell_type": "code",
   "execution_count": null,
   "metadata": {},
   "outputs": [],
   "source": []
  }
 ],
 "metadata": {
  "kernelspec": {
   "display_name": "Python 3",
   "language": "python",
   "name": "python3"
  },
  "language_info": {
   "codemirror_mode": {
    "name": "ipython",
    "version": 3
   },
   "file_extension": ".py",
   "mimetype": "text/x-python",
   "name": "python",
   "nbconvert_exporter": "python",
   "pygments_lexer": "ipython3",
   "version": "3.7.0"
  }
 },
 "nbformat": 4,
 "nbformat_minor": 2
}
