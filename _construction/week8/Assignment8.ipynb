{
 "cells": [
  {
   "cell_type": "markdown",
   "metadata": {},
   "source": [
    "# Problem 1. 10 pts.\n",
    "\n",
    "__Rules__\n",
    "* You have to create groups with min. 2 and max. 3 people for this problem.\n",
    "    * Each group should create a repository for this task\n",
    "    * The link to this repository should be included into current report\n",
    "    * New repository should be private. Only members of the team and course instructor (Mikhail) should be in the list of collaborators\n",
    "* Grades will be assigned according to the contributions to the repository (don't work on one PC alltogether and then push to master branch).\n",
    "* In the perferct world, the team would split the problem into subproblems and each member would work only on their own subproblem. That would be a good practice for: 1. project, 2. collaborative work with git on a single code base\n",
    "* Only the code in `master` branch will be evaluated. (In order to avoid painfull merge in the end - work on you own subproblem in a separate branch and merge to the master once the work is done).\n",
    "\n",
    "__Task__\n",
    "* You have to implement sparse tensor slicing library:\n",
    "    * You need to come up with a cool name for the library\n",
    "    * You have to write the code for sparse tensor slicing (remember about slow python loops, consider outsourcing this parts into `C/C++`) using `SWIG`, `pybind` or `cython`\n",
    "    * You need to write tests that show that actually your library is working correctly: here we would play my favorite game again. If I find an example where you lib is failed - I am the winner.\n",
    "    * `pytest` is suggested framework for writing the tests\n",
    "* The most important thing in working with sparse tensor is the speed:\n",
    "    * You have to choose proper sparse format\n",
    "    * All team members will get additional **up to 5 Bonus Points** for `the fastest correct implementation`.\n",
    "    * The speed will be evaluated on a closed set of test sparse tensor (you don't know them or their structure in advance).\n",
    "* The winner must opensource their implementation (make the repository public).\n",
    "* The input tensor is in **COO** format\n",
    "* You library should export just one single function for slicing the tensor\n",
    "* The library should be installable by command `python setup.py install` or `pip install LIBRARY_NAME` (it is your choice)\n",
    "* The code should be written in a clean and nice manner (in the best case even with a documantation in any of the formats available, see `Sphinx` for example)\n",
    "* Commits history must be clean such that it clear from the commit message what was done in each commit\n",
    "* It is a good opportunity to make a good use of pull requests\n",
    "\n",
    "* The team with the best documentation gets **up to 3 Bonus Points**\n",
    "* The team with the best test coverage gets **up to 3 Bonus Points**"
   ]
  },
  {
   "cell_type": "code",
   "execution_count": null,
   "metadata": {},
   "outputs": [],
   "source": []
  }
 ],
 "metadata": {
  "kernelspec": {
   "display_name": "Python 3",
   "language": "python",
   "name": "python3"
  },
  "language_info": {
   "codemirror_mode": {
    "name": "ipython",
    "version": 3
   },
   "file_extension": ".py",
   "mimetype": "text/x-python",
   "name": "python",
   "nbconvert_exporter": "python",
   "pygments_lexer": "ipython3",
   "version": "3.7.3"
  }
 },
 "nbformat": 4,
 "nbformat_minor": 2
}
