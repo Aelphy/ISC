{
 "cells": [
  {
   "cell_type": "markdown",
   "metadata": {},
   "source": [
    "# Project"
   ]
  },
  {
   "cell_type": "markdown",
   "metadata": {},
   "source": [
    "Imagine that you have a huge dataset. And you want to quickly look at it/analyze it."
   ]
  },
  {
   "cell_type": "markdown",
   "metadata": {},
   "source": [
    "You already used pandas for this purpose. But you can't use pandas for huge data sets."
   ]
  },
  {
   "cell_type": "markdown",
   "metadata": {},
   "source": [
    "## Small dataset example"
   ]
  },
  {
   "cell_type": "markdown",
   "metadata": {},
   "source": [
    "Dataset can be considered as a key-value storage"
   ]
  },
  {
   "cell_type": "code",
   "execution_count": 1,
   "metadata": {},
   "outputs": [
    {
     "data": {
      "text/html": [
       "<div>\n",
       "<style scoped>\n",
       "    .dataframe tbody tr th:only-of-type {\n",
       "        vertical-align: middle;\n",
       "    }\n",
       "\n",
       "    .dataframe tbody tr th {\n",
       "        vertical-align: top;\n",
       "    }\n",
       "\n",
       "    .dataframe thead th {\n",
       "        text-align: right;\n",
       "    }\n",
       "</style>\n",
       "<table border=\"1\" class=\"dataframe\">\n",
       "  <thead>\n",
       "    <tr style=\"text-align: right;\">\n",
       "      <th></th>\n",
       "      <th>idx</th>\n",
       "      <th>price</th>\n",
       "      <th>condition</th>\n",
       "      <th>district</th>\n",
       "      <th>max_floor</th>\n",
       "      <th>street</th>\n",
       "      <th>num_rooms</th>\n",
       "      <th>region</th>\n",
       "      <th>area</th>\n",
       "      <th>url</th>\n",
       "      <th>num_bathrooms</th>\n",
       "      <th>building_type</th>\n",
       "      <th>floor</th>\n",
       "      <th>ceiling_height</th>\n",
       "    </tr>\n",
       "  </thead>\n",
       "  <tbody>\n",
       "    <tr>\n",
       "      <th>0</th>\n",
       "      <td>0</td>\n",
       "      <td>65000.0</td>\n",
       "      <td>good</td>\n",
       "      <td>Center</td>\n",
       "      <td>9</td>\n",
       "      <td>Vardanants St</td>\n",
       "      <td>3</td>\n",
       "      <td>Yerevan</td>\n",
       "      <td>80.0</td>\n",
       "      <td>http://www.myrealty.am/en/item/24032/3-senyaka...</td>\n",
       "      <td>1</td>\n",
       "      <td>panel</td>\n",
       "      <td>4</td>\n",
       "      <td>2.8</td>\n",
       "    </tr>\n",
       "    <tr>\n",
       "      <th>1</th>\n",
       "      <td>1</td>\n",
       "      <td>140000.0</td>\n",
       "      <td>newly repaired</td>\n",
       "      <td>Arabkir</td>\n",
       "      <td>10</td>\n",
       "      <td>Hr.Kochar St</td>\n",
       "      <td>4</td>\n",
       "      <td>Yerevan</td>\n",
       "      <td>115.0</td>\n",
       "      <td>http://www.myrealty.am/en/item/17599/4-senyaka...</td>\n",
       "      <td>1</td>\n",
       "      <td>monolit</td>\n",
       "      <td>2</td>\n",
       "      <td>3.0</td>\n",
       "    </tr>\n",
       "    <tr>\n",
       "      <th>2</th>\n",
       "      <td>2</td>\n",
       "      <td>97000.0</td>\n",
       "      <td>newly repaired</td>\n",
       "      <td>Center</td>\n",
       "      <td>10</td>\n",
       "      <td>Teryan St</td>\n",
       "      <td>2</td>\n",
       "      <td>Yerevan</td>\n",
       "      <td>72.0</td>\n",
       "      <td>http://www.myrealty.am/en/item/29472/2-senyaka...</td>\n",
       "      <td>1</td>\n",
       "      <td>panel</td>\n",
       "      <td>3</td>\n",
       "      <td>2.8</td>\n",
       "    </tr>\n",
       "    <tr>\n",
       "      <th>3</th>\n",
       "      <td>3</td>\n",
       "      <td>47000.0</td>\n",
       "      <td>good</td>\n",
       "      <td>Center</td>\n",
       "      <td>9</td>\n",
       "      <td>D. Demirchyan St</td>\n",
       "      <td>1</td>\n",
       "      <td>Yerevan</td>\n",
       "      <td>43.0</td>\n",
       "      <td>http://www.myrealty.am/en/item/37186/1-senyaka...</td>\n",
       "      <td>1</td>\n",
       "      <td>panel</td>\n",
       "      <td>9</td>\n",
       "      <td>2.8</td>\n",
       "    </tr>\n",
       "    <tr>\n",
       "      <th>4</th>\n",
       "      <td>4</td>\n",
       "      <td>51000.0</td>\n",
       "      <td>newly repaired</td>\n",
       "      <td>Center</td>\n",
       "      <td>14</td>\n",
       "      <td>Sayat Nova Ave</td>\n",
       "      <td>1</td>\n",
       "      <td>Yerevan</td>\n",
       "      <td>33.0</td>\n",
       "      <td>http://www.myrealty.am/en/item/37184/1-senyaka...</td>\n",
       "      <td>1</td>\n",
       "      <td>other</td>\n",
       "      <td>4</td>\n",
       "      <td>2.8</td>\n",
       "    </tr>\n",
       "  </tbody>\n",
       "</table>\n",
       "</div>"
      ],
      "text/plain": [
       "   idx     price       condition district  max_floor            street  \\\n",
       "0    0   65000.0            good   Center          9     Vardanants St   \n",
       "1    1  140000.0  newly repaired  Arabkir         10      Hr.Kochar St   \n",
       "2    2   97000.0  newly repaired   Center         10         Teryan St   \n",
       "3    3   47000.0            good   Center          9  D. Demirchyan St   \n",
       "4    4   51000.0  newly repaired   Center         14    Sayat Nova Ave   \n",
       "\n",
       "   num_rooms   region   area  \\\n",
       "0          3  Yerevan   80.0   \n",
       "1          4  Yerevan  115.0   \n",
       "2          2  Yerevan   72.0   \n",
       "3          1  Yerevan   43.0   \n",
       "4          1  Yerevan   33.0   \n",
       "\n",
       "                                                 url  num_bathrooms  \\\n",
       "0  http://www.myrealty.am/en/item/24032/3-senyaka...              1   \n",
       "1  http://www.myrealty.am/en/item/17599/4-senyaka...              1   \n",
       "2  http://www.myrealty.am/en/item/29472/2-senyaka...              1   \n",
       "3  http://www.myrealty.am/en/item/37186/1-senyaka...              1   \n",
       "4  http://www.myrealty.am/en/item/37184/1-senyaka...              1   \n",
       "\n",
       "  building_type  floor  ceiling_height  \n",
       "0         panel      4             2.8  \n",
       "1       monolit      2             3.0  \n",
       "2         panel      3             2.8  \n",
       "3         panel      9             2.8  \n",
       "4         other      4             2.8  "
      ]
     },
     "execution_count": 1,
     "metadata": {},
     "output_type": "execute_result"
    }
   ],
   "source": [
    "import pandas as pd\n",
    "df = pd.read_csv('../data/yerevan_april_9.csv', sep=',')\n",
    "df.head()"
   ]
  },
  {
   "cell_type": "markdown",
   "metadata": {},
   "source": [
    "Above idx is a key and it's uniq among the rows.\n",
    "Let's calculate average, min and max prices of appartment in each district.\n",
    "That means, we don't care about columns other than district and price."
   ]
  },
  {
   "cell_type": "code",
   "execution_count": 2,
   "metadata": {},
   "outputs": [
    {
     "data": {
      "text/html": [
       "<div>\n",
       "<style scoped>\n",
       "    .dataframe tbody tr th:only-of-type {\n",
       "        vertical-align: middle;\n",
       "    }\n",
       "\n",
       "    .dataframe tbody tr th {\n",
       "        vertical-align: top;\n",
       "    }\n",
       "\n",
       "    .dataframe thead th {\n",
       "        text-align: right;\n",
       "    }\n",
       "</style>\n",
       "<table border=\"1\" class=\"dataframe\">\n",
       "  <thead>\n",
       "    <tr style=\"text-align: right;\">\n",
       "      <th></th>\n",
       "      <th>price</th>\n",
       "      <th>district</th>\n",
       "      <th>area</th>\n",
       "      <th>price_per_meter</th>\n",
       "    </tr>\n",
       "  </thead>\n",
       "  <tbody>\n",
       "    <tr>\n",
       "      <th>0</th>\n",
       "      <td>65000.0</td>\n",
       "      <td>Center</td>\n",
       "      <td>80.0</td>\n",
       "      <td>812.500000</td>\n",
       "    </tr>\n",
       "    <tr>\n",
       "      <th>1</th>\n",
       "      <td>140000.0</td>\n",
       "      <td>Arabkir</td>\n",
       "      <td>115.0</td>\n",
       "      <td>1217.391304</td>\n",
       "    </tr>\n",
       "    <tr>\n",
       "      <th>2</th>\n",
       "      <td>97000.0</td>\n",
       "      <td>Center</td>\n",
       "      <td>72.0</td>\n",
       "      <td>1347.222222</td>\n",
       "    </tr>\n",
       "    <tr>\n",
       "      <th>3</th>\n",
       "      <td>47000.0</td>\n",
       "      <td>Center</td>\n",
       "      <td>43.0</td>\n",
       "      <td>1093.023256</td>\n",
       "    </tr>\n",
       "    <tr>\n",
       "      <th>4</th>\n",
       "      <td>51000.0</td>\n",
       "      <td>Center</td>\n",
       "      <td>33.0</td>\n",
       "      <td>1545.454545</td>\n",
       "    </tr>\n",
       "  </tbody>\n",
       "</table>\n",
       "</div>"
      ],
      "text/plain": [
       "      price district   area  price_per_meter\n",
       "0   65000.0   Center   80.0       812.500000\n",
       "1  140000.0  Arabkir  115.0      1217.391304\n",
       "2   97000.0   Center   72.0      1347.222222\n",
       "3   47000.0   Center   43.0      1093.023256\n",
       "4   51000.0   Center   33.0      1545.454545"
      ]
     },
     "execution_count": 2,
     "metadata": {},
     "output_type": "execute_result"
    }
   ],
   "source": [
    "df = df[['price', 'district','area']]\n",
    "df['price_per_meter'] = df.price / df.area\n",
    "df[0:5]"
   ]
  },
  {
   "cell_type": "code",
   "execution_count": 3,
   "metadata": {},
   "outputs": [
    {
     "data": {
      "text/plain": [
       "[('Achapnyak', 19       494.505495\n",
       "  25       620.689655\n",
       "  27       347.560976\n",
       "  28       636.363636\n",
       "  43       403.846154\n",
       "  50       437.500000\n",
       "  53       745.454545\n",
       "  61       837.837838\n",
       "  97       416.666667\n",
       "  106      428.571429\n",
       "  114      451.612903\n",
       "  116      750.000000\n",
       "  124      527.272727\n",
       "  131      828.571429\n",
       "  137      738.095238\n",
       "  150      625.000000\n",
       "  151     1066.666667\n",
       "  224      619.047619\n",
       "  226      958.333333\n",
       "  232      868.421053\n",
       "  243      670.731707\n",
       "  244      617.977528\n",
       "  351      787.037037\n",
       "  386      723.076923\n",
       "  421      593.750000\n",
       "  481      507.692308\n",
       "  486      423.076923\n",
       "  490      666.666667\n",
       "  491      395.061728\n",
       "  494      432.432432\n",
       "             ...     \n",
       "  5299     789.473684\n",
       "  5300     660.000000\n",
       "  5301     635.593220\n",
       "  5302     580.000000\n",
       "  5304     471.153846\n",
       "  5306     837.837838\n",
       "  5396     560.747664\n",
       "  5678     854.545455\n",
       "  5706     727.272727\n",
       "  5727     661.971831\n",
       "  5731     687.500000\n",
       "  5788     813.953488\n",
       "  5958     764.044944\n",
       "  5961     716.417910\n",
       "  5973     750.000000\n",
       "  5974     684.210526\n",
       "  6015     593.670886\n",
       "  6048     830.769231\n",
       "  6099     481.012658\n",
       "  6101     535.211268\n",
       "  6104     487.179487\n",
       "  6111     612.903226\n",
       "  6113     558.823529\n",
       "  6182     648.148148\n",
       "  6192     673.076923\n",
       "  6206     777.777778\n",
       "  6208     875.000000\n",
       "  6210     448.717949\n",
       "  6228     700.000000\n",
       "  6232     583.333333\n",
       "  Name: price_per_meter, Length: 246, dtype: float64),\n",
       " ('Arabkir', 1       1217.391304\n",
       "  6       1116.666667\n",
       "  13       731.343284\n",
       "  14      1294.117647\n",
       "  15       933.333333\n",
       "  17      1666.666667\n",
       "  20       945.652174\n",
       "  21       978.260870\n",
       "  31      1209.677419\n",
       "  34      1028.169014\n",
       "  35      1120.481928\n",
       "  44       702.479339\n",
       "  56       705.128205\n",
       "  57      1228.571429\n",
       "  63       970.149254\n",
       "  67       767.123288\n",
       "  75      1021.505376\n",
       "  76      1137.254902\n",
       "  78       857.142857\n",
       "  79      1000.000000\n",
       "  80      1000.000000\n",
       "  81       954.545455\n",
       "  83       851.063830\n",
       "  86      1014.285714\n",
       "  87       850.340136\n",
       "  90      1153.846154\n",
       "  95      1414.285714\n",
       "  113      750.000000\n",
       "  140     1033.333333\n",
       "  142      605.769231\n",
       "             ...     \n",
       "  6008     875.000000\n",
       "  6017    1296.296296\n",
       "  6021     677.419355\n",
       "  6023    1352.941176\n",
       "  6029     659.340659\n",
       "  6040     621.212121\n",
       "  6043     652.173913\n",
       "  6049     714.285714\n",
       "  6050     878.378378\n",
       "  6057     779.220779\n",
       "  6068     678.787879\n",
       "  6078     826.086957\n",
       "  6079     918.367347\n",
       "  6124     883.720930\n",
       "  6125     883.720930\n",
       "  6127     826.086957\n",
       "  6128     500.000000\n",
       "  6129    1544.117647\n",
       "  6132    1576.923077\n",
       "  6150    1538.461538\n",
       "  6157     773.195876\n",
       "  6158     875.000000\n",
       "  6172    1197.530864\n",
       "  6178     729.166667\n",
       "  6187     744.680851\n",
       "  6190     673.076923\n",
       "  6204    1000.000000\n",
       "  6205     945.945946\n",
       "  6215     760.869565\n",
       "  6233     972.222222\n",
       "  Name: price_per_meter, Length: 1640, dtype: float64)]"
      ]
     },
     "execution_count": 3,
     "metadata": {},
     "output_type": "execute_result"
    }
   ],
   "source": [
    "grouped = df.groupby(['district'])['price_per_meter']\n",
    "list(grouped)[0:2]"
   ]
  },
  {
   "cell_type": "code",
   "execution_count": 4,
   "metadata": {},
   "outputs": [
    {
     "data": {
      "text/html": [
       "<div>\n",
       "<style scoped>\n",
       "    .dataframe tbody tr th:only-of-type {\n",
       "        vertical-align: middle;\n",
       "    }\n",
       "\n",
       "    .dataframe tbody tr th {\n",
       "        vertical-align: top;\n",
       "    }\n",
       "\n",
       "    .dataframe thead th {\n",
       "        text-align: right;\n",
       "    }\n",
       "</style>\n",
       "<table border=\"1\" class=\"dataframe\">\n",
       "  <thead>\n",
       "    <tr style=\"text-align: right;\">\n",
       "      <th></th>\n",
       "      <th>count</th>\n",
       "      <th>max</th>\n",
       "      <th>mean</th>\n",
       "      <th>min</th>\n",
       "    </tr>\n",
       "    <tr>\n",
       "      <th>district</th>\n",
       "      <th></th>\n",
       "      <th></th>\n",
       "      <th></th>\n",
       "      <th></th>\n",
       "    </tr>\n",
       "  </thead>\n",
       "  <tbody>\n",
       "    <tr>\n",
       "      <th>Achapnyak</th>\n",
       "      <td>246.0</td>\n",
       "      <td>1111.111111</td>\n",
       "      <td>656.650121</td>\n",
       "      <td>347.560976</td>\n",
       "    </tr>\n",
       "    <tr>\n",
       "      <th>Arabkir</th>\n",
       "      <td>1640.0</td>\n",
       "      <td>2666.666667</td>\n",
       "      <td>991.604966</td>\n",
       "      <td>335.714286</td>\n",
       "    </tr>\n",
       "    <tr>\n",
       "      <th>Avan</th>\n",
       "      <td>320.0</td>\n",
       "      <td>1750.000000</td>\n",
       "      <td>734.465192</td>\n",
       "      <td>367.021277</td>\n",
       "    </tr>\n",
       "    <tr>\n",
       "      <th>Center</th>\n",
       "      <td>2588.0</td>\n",
       "      <td>3928.571429</td>\n",
       "      <td>1361.005018</td>\n",
       "      <td>400.000000</td>\n",
       "    </tr>\n",
       "    <tr>\n",
       "      <th>Davtashen</th>\n",
       "      <td>309.0</td>\n",
       "      <td>1950.000000</td>\n",
       "      <td>801.170345</td>\n",
       "      <td>364.485981</td>\n",
       "    </tr>\n",
       "    <tr>\n",
       "      <th>Erebuni</th>\n",
       "      <td>94.0</td>\n",
       "      <td>939.024390</td>\n",
       "      <td>622.417553</td>\n",
       "      <td>333.333333</td>\n",
       "    </tr>\n",
       "    <tr>\n",
       "      <th>Malatia-Sebastia</th>\n",
       "      <td>292.0</td>\n",
       "      <td>1000.000000</td>\n",
       "      <td>580.504672</td>\n",
       "      <td>257.142857</td>\n",
       "    </tr>\n",
       "    <tr>\n",
       "      <th>Nor Norq</th>\n",
       "      <td>291.0</td>\n",
       "      <td>1087.500000</td>\n",
       "      <td>617.894857</td>\n",
       "      <td>315.315315</td>\n",
       "    </tr>\n",
       "    <tr>\n",
       "      <th>Norq Marash</th>\n",
       "      <td>5.0</td>\n",
       "      <td>1491.666667</td>\n",
       "      <td>1286.641853</td>\n",
       "      <td>769.230769</td>\n",
       "    </tr>\n",
       "    <tr>\n",
       "      <th>Nubarashen</th>\n",
       "      <td>1.0</td>\n",
       "      <td>576.923077</td>\n",
       "      <td>576.923077</td>\n",
       "      <td>576.923077</td>\n",
       "    </tr>\n",
       "    <tr>\n",
       "      <th>Qanaqer-Zeytun</th>\n",
       "      <td>239.0</td>\n",
       "      <td>1463.414634</td>\n",
       "      <td>756.048631</td>\n",
       "      <td>364.705882</td>\n",
       "    </tr>\n",
       "    <tr>\n",
       "      <th>Shengavit</th>\n",
       "      <td>206.0</td>\n",
       "      <td>1461.538462</td>\n",
       "      <td>642.436777</td>\n",
       "      <td>291.666667</td>\n",
       "    </tr>\n",
       "    <tr>\n",
       "      <th>Vahagni district</th>\n",
       "      <td>3.0</td>\n",
       "      <td>1071.428571</td>\n",
       "      <td>1071.428571</td>\n",
       "      <td>1071.428571</td>\n",
       "    </tr>\n",
       "  </tbody>\n",
       "</table>\n",
       "</div>"
      ],
      "text/plain": [
       "                   count          max         mean          min\n",
       "district                                                       \n",
       "Achapnyak          246.0  1111.111111   656.650121   347.560976\n",
       "Arabkir           1640.0  2666.666667   991.604966   335.714286\n",
       "Avan               320.0  1750.000000   734.465192   367.021277\n",
       "Center            2588.0  3928.571429  1361.005018   400.000000\n",
       "Davtashen          309.0  1950.000000   801.170345   364.485981\n",
       "Erebuni             94.0   939.024390   622.417553   333.333333\n",
       "Malatia-Sebastia   292.0  1000.000000   580.504672   257.142857\n",
       "Nor Norq           291.0  1087.500000   617.894857   315.315315\n",
       "Norq Marash          5.0  1491.666667  1286.641853   769.230769\n",
       "Nubarashen           1.0   576.923077   576.923077   576.923077\n",
       "Qanaqer-Zeytun     239.0  1463.414634   756.048631   364.705882\n",
       "Shengavit          206.0  1461.538462   642.436777   291.666667\n",
       "Vahagni district     3.0  1071.428571  1071.428571  1071.428571"
      ]
     },
     "execution_count": 4,
     "metadata": {},
     "output_type": "execute_result"
    }
   ],
   "source": [
    "def get_stats(group):\n",
    "    return {'min': group.min(), 'max': group.max(), 'count': group.count(), 'mean': group.mean()}\n",
    "answer = grouped.apply(get_stats).unstack()\n",
    "answer"
   ]
  },
  {
   "cell_type": "markdown",
   "metadata": {},
   "source": [
    "## Let's try on a bigger dataset"
   ]
  },
  {
   "cell_type": "code",
   "execution_count": 5,
   "metadata": {},
   "outputs": [
    {
     "name": "stdout",
     "output_type": "stream",
     "text": [
      "CPU times: user 2.25 s, sys: 332 ms, total: 2.58 s\n",
      "Wall time: 2.11 s\n"
     ]
    }
   ],
   "source": [
    "%time df = pd.read_csv('../data/1000000 Sales Records.csv', sep=',', low_memory=False)"
   ]
  },
  {
   "cell_type": "markdown",
   "metadata": {},
   "source": [
    "It took 2s and 500Mb of memory just to load 125Mb dataset. Usually, it's necessary to work with up to 100Tb datasets."
   ]
  },
  {
   "cell_type": "markdown",
   "metadata": {},
   "source": [
    "## Mapreduce"
   ]
  },
  {
   "cell_type": "markdown",
   "metadata": {},
   "source": [
    "A way to process huge datasets without loading them to memory.\n",
    "\n",
    "A way to preprocess each data row separately (map stage). This may be done in parallel.\n",
    "\n",
    "And then - join all the rows with post-processing (reduce stage).\n",
    "\n",
    "A good article about mapreduce https://www.tutorialspoint.com/hadoop/hadoop_mapreduce.htm\n",
    "![Mapreduce](https://www.tutorialspoint.com/hadoop/images/mapreduce_algorithm.jpg)"
   ]
  },
  {
   "cell_type": "markdown",
   "metadata": {},
   "source": [
    "But mapreduce needs an infrastructure. YT at Yandex, BigTable at Google, Hadoop + Spark - opensource solution used by almost everybody else."
   ]
  },
  {
   "cell_type": "markdown",
   "metadata": {},
   "source": [
    "## Csvtools"
   ]
  },
  {
   "cell_type": "markdown",
   "metadata": {},
   "source": [
    "It's a set of toy mapreduce utils aimed to be used on a local machine from command line.\n",
    "\n",
    "You are supposed to construct a dataprocessing pipeline using csvtools redirecting output of one command to another command's input using pipes ('|').\n",
    "\n",
    "You'll need either linux or mac terminal or (cygwin+python or virtual box with ubuntu or docker) on windows to utilize pipes. Probably, powershell will be enough but I am not sure.\n",
    "\n",
    "### csvpp, csvcut\n",
    "\n",
    "csvpp is just a pretty print.\n",
    "\n",
    "csvcut is a way to preserve only the desired columns"
   ]
  },
  {
   "cell_type": "code",
   "execution_count": 1,
   "metadata": {},
   "outputs": [
    {
     "name": "stdout",
     "output_type": "stream",
     "text": [
      "price    | district  | area\r\n",
      "---------------------------\r\n",
      "65000    | Center    | 80.0\r\n",
      "1.4e+05  | Arabkir   | 115 \r\n",
      "97000    | Center    | 72.0\r\n",
      "47000    | Center    | 43.0\r\n",
      "51000    | Center    | 33.0\r\n",
      "44900    | Center    | 71.0\r\n",
      "67000    | Arabkir   | 60.0\r\n",
      "1.43e+05 | Center    | 98.0\r\n",
      "27000    | Shengavit | 48.0\r\n"
     ]
    }
   ],
   "source": [
    "!head -10 yerevan_april_9.csv | csvcut -f price,district,area | csvpp -f"
   ]
  },
  {
   "cell_type": "markdown",
   "metadata": {},
   "source": [
    "The idea is to distribute your dataset over multiple machines"
   ]
  },
  {
   "cell_type": "markdown",
   "metadata": {},
   "source": [
    "### csvmap\n",
    "\n",
    "csvmap is a way to define a new column or modify an existing one. It applies the transformation row-wide. As the map step in mapreduce.\n"
   ]
  },
  {
   "cell_type": "code",
   "execution_count": 1,
   "metadata": {},
   "outputs": [
    {
     "name": "stdout",
     "output_type": "stream",
     "text": [
      "price    | district  | area | price_per_meter\r\n",
      "---------------------------------------------\r\n",
      "65000    | Center    | 80.0 | 812.5          \r\n",
      "1.4e+05  | Arabkir   | 115  | 1217.4         \r\n",
      "97000    | Center    | 72.0 | 1347.2         \r\n",
      "47000    | Center    | 43.0 | 1093           \r\n",
      "51000    | Center    | 33.0 | 1545.5         \r\n",
      "44900    | Center    | 71.0 | 632.39         \r\n",
      "67000    | Arabkir   | 60.0 | 1116.7         \r\n",
      "1.43e+05 | Center    | 98.0 | 1459.2         \r\n",
      "27000    | Shengavit | 48.0 | 562.5          \r\n"
     ]
    }
   ],
   "source": [
    "!head -10 yerevan_april_9.csv | csvcut -f price,district,area | csvmap '$price_per_meter = $price / $area' | csvpp -f"
   ]
  },
  {
   "cell_type": "markdown",
   "metadata": {},
   "source": [
    "### csvreduce\n",
    "\n",
    "csvreduce is a way to calculate column statistics per each key(s) value. In the following example it's used to calculate mean price_per_meter."
   ]
  },
  {
   "cell_type": "code",
   "execution_count": 1,
   "metadata": {},
   "outputs": [
    {
     "name": "stdout",
     "output_type": "stream",
     "text": [
      "district         | avg_price_per_meter | count\r\n",
      "----------------------------------------------\r\n",
      "Achapnyak        | 656.65              | 246  \r\n",
      "Arabkir          | 991.6               | 1640 \r\n",
      "Avan             | 734.47              | 320  \r\n",
      "Center           | 1361                | 2588 \r\n",
      "Davtashen        | 801.17              | 309  \r\n",
      "Erebuni          | 622.42              | 94   \r\n",
      "Malatia-Sebastia | 580.5               | 292  \r\n",
      "Nor Norq         | 617.89              | 291  \r\n",
      "Norq Marash      | 1286.6              | 5    \r\n",
      "Nubarashen       | 576.92              | 1    \r\n",
      "Qanaqer-Zeytun   | 756.05              | 239  \r\n",
      "Shengavit        | 642.44              | 206  \r\n",
      "Vahagni district | 1071.4              | 3    \r\n"
     ]
    }
   ],
   "source": [
    "!cat yerevan_april_9.csv | csvcut -f price,district,area | csvmap '$price_per_meter = $price / $area' | csvreduce -k district -r avg[price_per_meter],count | csvpp -f"
   ]
  },
  {
   "cell_type": "markdown",
   "metadata": {},
   "source": [
    "Woo-hoo! We analysed our dataset with a single line"
   ]
  },
  {
   "cell_type": "markdown",
   "metadata": {},
   "source": [
    "### csvplot"
   ]
  },
  {
   "cell_type": "markdown",
   "metadata": {},
   "source": [
    "And even plot the results"
   ]
  },
  {
   "cell_type": "code",
   "execution_count": 0,
   "metadata": {
    "collapsed": true
   },
   "outputs": [],
   "source": [
    "!cat yerevan_april_9.csv | csvcut -f price,district,area | csvmap '$price_per_meter = $price / $area' | csvreduce -k district -r avg[price_per_meter],count | csvplot -y avg_price_per_meter"
   ]
  },
  {
   "cell_type": "markdown",
   "metadata": {},
   "source": [
    "![csvplot output](./csvplot_example.png)"
   ]
  },
  {
   "cell_type": "markdown",
   "metadata": {},
   "source": [
    "### csvhead, csvtail"
   ]
  },
  {
   "cell_type": "markdown",
   "metadata": {},
   "source": [
    "Same as head and tail but work correctly with comma-separated files."
   ]
  },
  {
   "cell_type": "markdown",
   "metadata": {},
   "source": [
    "## Your homework"
   ]
  },
  {
   "cell_type": "markdown",
   "metadata": {},
   "source": [
    "Implement that useful set of tools:)\n",
    "\n",
    "Formal specifications and some tips are available in my github repo https://github.com/aelphy/csvtools"
   ]
  },
  {
   "cell_type": "markdown",
   "metadata": {},
   "source": [
    "# Description is here:\n",
    "\n",
    "https://docs.google.com/document/d/1WLjxKzaQn599E2okQE_JCMYOUe77iaIHjBIvZ4XqOfY/edit?usp=sharing\n",
    "    \n",
    "https://docs.google.com/document/d/1DBtKKW_7QZbrQPPDy9b7YmwTwA44PsnKRolQktEd2fc/edit?usp=sharing"
   ]
  }
 ],
 "metadata": {
  "kernelspec": {
   "display_name": "Python 3",
   "language": "python",
   "name": "python3"
  },
  "language_info": {
   "codemirror_mode": {
    "name": "ipython",
    "version": 3
   },
   "file_extension": ".py",
   "mimetype": "text/x-python",
   "name": "python",
   "nbconvert_exporter": "python",
   "pygments_lexer": "ipython3",
   "version": "3.7.3"
  }
 },
 "nbformat": 4,
 "nbformat_minor": 1
}
