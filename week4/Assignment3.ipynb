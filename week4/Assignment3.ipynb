{
 "cells": [
  {
   "cell_type": "markdown",
   "metadata": {},
   "source": [
    "### Intro to Numpy, again\n",
    "\n",
    "It is prohibited to use cycles in this notebook (keywords *for* и *while*), [list comprehension](https://www.pythonforbeginners.com/basics/list-comprehensions-in-python), [map etc.](http://pythonicway.com/python-functinal-programming)\n",
    "\n",
    "For every problem provide examples of their usage. Without the examples you will have only half of the points. Examples should be different from those in the task.\n",
    "\n",
    "Matrix is 2d numpy array [numpy.array](https://docs.scipy.org/doc/numpy/reference/generated/numpy.array.html)"
   ]
  },
  {
   "cell_type": "code",
   "execution_count": 1,
   "metadata": {},
   "outputs": [],
   "source": [
    "import numpy as np"
   ]
  },
  {
   "cell_type": "markdown",
   "metadata": {},
   "source": [
    "**(0.1 P) Task 1.** Implement the function with input matrix ```X``` and two arrays of indicies ```indices1``` и ```indices2``` of equal length and returning np.array, with the following sequence: \n",
    "\n",
    "```[X[indices1[0], indices2[0]], ... , X[indices1[N-1], indices2[N-1]]]```"
   ]
  },
  {
   "cell_type": "markdown",
   "metadata": {},
   "source": [
    "**(0.1 P) Task 2.** Implement the function with two input arrays ```X``` и ```Y``` (arrays might be n-dimentional, but their shapes must correspond), and returns **True** if they are equal and **False** - otherwise."
   ]
  },
  {
   "cell_type": "markdown",
   "metadata": {},
   "source": [
    "**(0.1 P) Task 3.** Implement a fucntion with input RGB image ```X``` (3d vector of shape (n, m, 3)) and returns average by every channel (vector of length 3)."
   ]
  },
  {
   "cell_type": "markdown",
   "metadata": {},
   "source": [
    "**(0.1 P) Task 4. ** Implement a function with input matrix ```X``` and some number ```a``` and returning the closest to this number matrix element.\n",
    "\n",
    "E.g., for ```X = np.arange(0,10).reshape((2, 5))``` and ```a = 3.6``` the answer would be 4."
   ]
  },
  {
   "cell_type": "markdown",
   "metadata": {},
   "source": [
    "**(0.1 P) Task 5.** Implement the function with two 1d arrays ```x``` and ```y``` and returning the matrix with the first array in the first column and the second array in the second column\n",
    "\n",
    "In this task it is **prohibited** to use transpose operation and it is recommended to use [reshape](https://docs.scipy.org/doc/numpy-1.13.0/reference/generated/numpy.reshape.html)."
   ]
  },
  {
   "cell_type": "markdown",
   "metadata": {},
   "source": [
    "**(0.25 P) Task 6.** Implement the function with input vector ```x``` with integer numbers without 0 and returns a vector with zeros between numbers\n",
    "\n",
    "E.g, from ```[1, -5, 3]``` to ```[1, 0, -5, 0, 3]```"
   ]
  },
  {
   "cell_type": "markdown",
   "metadata": {},
   "source": [
    "**(0.25 P) Task 7.** Implement the function for computing the product of nonzero elements on the matrix diagonal.\n",
    "\n",
    "E.g., for ```X = np.array([[1, 0, 1], [2, 0, 2], [3, 0, 3], [4, 4, 4]])``` the answer is 3. If there is no nonzero elements, the function must return ```None```."
   ]
  },
  {
   "cell_type": "markdown",
   "metadata": {},
   "source": [
    "**(0.4 P) Task 8.** Implement the function which returns maximal element from ```X``` among the entries which have zero before them.\n",
    "\n",
    "E.g., for ```X = np.array([6, 2, 0, 3, 0, 0, 5, 7, 0])``` the answer is 5. If there is no appropriate elements the function must return ```None```."
   ]
  },
  {
   "cell_type": "markdown",
   "metadata": {},
   "source": [
    "**(0.4 P) Task 9.** Implement the function with input matrix ```X``` and returning all its unique rows as a matrix."
   ]
  },
  {
   "cell_type": "markdown",
   "metadata": {},
   "source": [
    "**(0.4 P) Task 10.** Implement the function with input matrix ```X``` which finds ```nan``` and change it to the mean of normal elements. If all the elements are ```nan``` return zero matrix of the same shape."
   ]
  },
  {
   "cell_type": "markdown",
   "metadata": {},
   "source": [
    "**(Bonus) Task 11.** Implement the function generating [Vandermonde matrix](https://en.wikipedia.org/wiki/Vandermonde_matrix) with input vector $(x_1, ... , x_n)$.\n",
    "\n",
    "In this task it is **prohibited** to use ready implementations (e.g., [numpy.vander](https://docs.scipy.org/doc/numpy-1.13.0/reference/generated/numpy.vander.html)), and [np.repeat](https://docs.scipy.org/doc/numpy/reference/generated/numpy.repeat.html) and [np.transpose](https://docs.scipy.org/doc/numpy/reference/generated/numpy.transpose.html).\n",
    "\n",
    "Use [np.reshape](https://docs.scipy.org/doc/numpy/reference/generated/numpy.reshape.html) and/or [np.newaxis](https://docs.scipy.org/doc/numpy-1.13.0/reference/arrays.indexing.html).\n",
    "\n",
    "Assumptions: the number of rows equals to the number of elements in the input vector, the order of columns is defined like in wikipedia, dtype = int64, input vector is - np.array"
   ]
  },
  {
   "cell_type": "markdown",
   "metadata": {},
   "source": [
    "**(0.5 P) Task 12.** You have 2 numeric matrices ```X``` and ```Y``` with equal number of columns and possible different number of rows. You have to implement the function which computes [Cosine similarity](https://en.wikipedia.org/wiki/Cosine_similarity) between all $X_i$ and $Y_j$, where $X_i$ - $i$-th row of matrix $X$, and $Y_j$ - $j$-th row of matrix $Y$. \n",
    "\n",
    "In this task it is **prohibited** to use ready implementations and [np.repeat](https://docs.scipy.org/doc/numpy/reference/generated/numpy.repeat.html) and [np.transpose](https://docs.scipy.org/doc/numpy/reference/generated/numpy.transpose.html).\n",
    "\n",
    "Use [np.reshape](https://docs.scipy.org/doc/numpy/reference/generated/numpy.reshape.html) and/or [np.newaxis](https://docs.scipy.org/doc/numpy-1.13.0/reference/arrays.indexing.html), [np.sqrt](https://docs.scipy.org/doc/numpy/reference/generated/numpy.sqrt.html), [np.sum](https://docs.scipy.org/doc/numpy/reference/generated/numpy.sum.html) and [np.power](https://docs.scipy.org/doc/numpy/reference/generated/numpy.power.html).\n",
    "\n",
    "Assumptions: there are now zero length vectors in the input matrix row."
   ]
  },
  {
   "cell_type": "markdown",
   "metadata": {},
   "source": [
    "**(0.5 P) Task 13.** Implement the function with input matrix scaling each column. Subtract the mean and divide by standard deviation.\n",
    "\n",
    "you can use [numpy.random.randint](https://docs.scipy.org/doc/numpy/reference/generated/numpy.random.randint.html) for tests.\n",
    "\n",
    "Make sure that you do not divide by zero, if you do - return **None**."
   ]
  },
  {
   "cell_type": "markdown",
   "metadata": {},
   "source": [
    "**(0.5 P) Task 14.** Let $N=1000$. Repeat $N$ times the following experiment: generate 2 matrices $N×N$  from standard normal ditribution, multiply them (like matrices) and find maximal element. What is mean maximal value (mean by experiments)? 95% quantile?\n",
    "\n",
    "Use [list comprehension](https://www.pythonforbeginners.com/basics/list-comprehensions-in-python) and [tqdm_notebook](https://github.com/tqdm/tqdm) - for progress reporting."
   ]
  },
  {
   "cell_type": "markdown",
   "metadata": {},
   "source": [
    "### Matplotlib\n",
    "\n",
    "Make sure that plots have subscripted axes, title, and legend when necessary.\n",
    "All the pictures must be self-presenting and comfortable to read, so that there is no need to look in the code to undestand what is going on.\n",
    "\n",
    "![](https://imgs.xkcd.com/comics/convincing.png)\n",
    "\n",
    "**(0.5 P) Task 15.** Using function ```gen_uncertain_data``` for generating the data, plot with blue ```y(x)``` and its confidence interval with green from ```y[i] - error[i]``` to ```y[i] + error[i]```. Useful function is `fill_between`.\n",
    "\n",
    "    def gen_uncertain_data():\n",
    "        x = np.linspace(0, 30, 100)\n",
    "        y = np.sin(x/6*np.pi) + np.random.normal(0, 0.02, size=x.shape)\n",
    "        error = np.random.normal(0.1, 0.02, size=y.shape)\n",
    "        return x, y, error"
   ]
  },
  {
   "cell_type": "markdown",
   "metadata": {},
   "source": [
    "### Data analysis with Pandas \n",
    "\n",
    "![](https://metrouk2.files.wordpress.com/2015/10/panda.jpg)"
   ]
  },
  {
   "cell_type": "markdown",
   "metadata": {},
   "source": [
    "**(1 P) Task 16.** \n",
    "\n",
    "Load table with passengers from ```titanic.csv```.\n",
    "\n",
    "Find all features with missing values. Usually algorithms automatically process such data. Propose ways to overcome missing data issue (at least 2 with pros and cons for each). Illustrate the methods for the dataset."
   ]
  },
  {
   "cell_type": "markdown",
   "metadata": {},
   "source": [
    "**(2 P) task 17.**\n",
    "\n",
    "Load data from ```articles.csv```.\n",
    "\n",
    "1. Visualize the amounts of different publishers [pie plot](http://pandas.pydata.org/pandas-docs/stable/visualization.html#visualization-pie).\n",
    "2. Make distribution of publication for each publisher by year [bar plot](http://pandas.pydata.org/pandas-docs/stable/visualization.html#visualization-barplot). What is the year with maximal number of publications ?\n",
    "3. Find top-10 authors for the year from previous task. Note, that an article might have multiple authors - you should count that.\n",
    "Clarification: top is taken by the number of publications. \n",
    "4. Plot the distribution of publications by month from authors you found on the previous step, plot with  [hist plot](http://pandas.pydata.org/pandas-docs/stable/visualization.html#visualization-hist)"
   ]
  },
  {
   "cell_type": "markdown",
   "metadata": {},
   "source": [
    "### (3 P) Perceptron\n",
    "\n",
    "Implement perceptron algorithm for Iris dataset (look in sklearn [documention](http://scikit-learn.org/stable/auto_examples/datasets/plot_iris_dataset.html) - how to get the dataset).\n",
    "Split (`train_test_split function might be usefull`) the dataset into train and test part. Train your perceptron and report the results."
   ]
  },
  {
   "cell_type": "code",
   "execution_count": null,
   "metadata": {},
   "outputs": [],
   "source": []
  }
 ],
 "metadata": {
  "kernelspec": {
   "display_name": "Python 3",
   "language": "python",
   "name": "python3"
  },
  "language_info": {
   "codemirror_mode": {
    "name": "ipython",
    "version": 3
   },
   "file_extension": ".py",
   "mimetype": "text/x-python",
   "name": "python",
   "nbconvert_exporter": "python",
   "pygments_lexer": "ipython3",
   "version": "3.6.4"
  },
  "toc": {
   "nav_menu": {},
   "number_sections": true,
   "sideBar": true,
   "skip_h1_title": false,
   "title_cell": "Table of Contents",
   "title_sidebar": "Contents",
   "toc_cell": false,
   "toc_position": {},
   "toc_section_display": true,
   "toc_window_display": false
  }
 },
 "nbformat": 4,
 "nbformat_minor": 1
}
