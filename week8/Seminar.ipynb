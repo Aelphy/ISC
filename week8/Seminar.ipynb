{
 "cells": [
  {
   "cell_type": "markdown",
   "metadata": {},
   "source": [
    "# Task 1\n",
    "\n",
    "Provide the method resolution order for each of the classes using C3 Linearization Algorithm:\n",
    "\n",
    "```\n",
    "O = object\n",
    "\n",
    "\n",
    "class A(O): pass\n",
    "\n",
    "\n",
    "class B(O): pass\n",
    "\n",
    "\n",
    "class C(A,B) : pass\n",
    "\n",
    "\n",
    "class D(B,A): pass\n",
    "\n",
    "\n",
    "class E(C): pass\n",
    "```"
   ]
  },
  {
   "cell_type": "markdown",
   "metadata": {},
   "source": [
    "# Task 2 String Calculator\n",
    "\n",
    "\n",
    "The following is a TDD Kata - an exercise in coding, refactoring and test-first.\n",
    "For this task you will need to work in multiple .py files. Organize them in the assignment folder (you can create subfolders where it makes sense). Commit every step you are doing in the task. Provide each commit with meaningfull commit message.\n",
    "\n",
    "Before you start: \n",
    "Try not to read ahead.\n",
    "Do one task at a time. The trick is to learn to work incrementally.\n",
    "Make sure you only test for correct inputs. there is no need to test for invalid inputs for this kata.\n",
    "\n",
    "* Create a simple String calculator with a method int Add(string numbers)\n",
    "    * The method can take 0, 1 or 2 numbers, and will return their sum (for an empty string it will return 0) for example “” or “1” or “1,2”\n",
    "    * Start with the simplest test case of an empty string and move to 1 and two numbers\n",
    "    * Remember to solve things as simply as possible so that you force yourself to write tests you did not think about\n",
    "    * Remember to refactor after each passing test\n",
    "* Allow the Add method to handle an unknown amount of numbers\n",
    "* Allow the Add method to handle new lines between numbers (instead of commas).\n",
    "    * the following input is ok:  “1\\n2,3”  (will equal 6)\n",
    "    * the following input is NOT ok:  “1,\\n” (not need to prove it - just clarifying)\n",
    "* Support different delimiters\n",
    "    * to change a delimiter, the beginning of the string will contain a separate line that looks like this:   “//[delimiter]\\n[numbers…]” for example “//;\\n1;2” should return three where the default delimiter is ‘;’ .\n",
    "    * the first line is optional. all existing scenarios should still be supported\n",
    "* Calling Add with a negative number will throw an exception “negatives not allowed” - and the negative that was passed.if there are multiple negatives, show all of them in the exception message\n",
    "\n",
    "* Numbers bigger than 1000 should be ignored, so adding 2 + 1001 = 2\n",
    "* Delimiters can be of any length with the following format:  “//[delimiter]\\n” for example: “//[***]\\n1***2***3” should return 6\n",
    "* Allow multiple delimiters like this:  “//[delim1][delim2]\\n” for example “//[*][%]\\n1*2%3” should return 6.\n",
    "* make sure you can also handle multiple delimiters with length longer than one char"
   ]
  },
  {
   "cell_type": "markdown",
   "metadata": {},
   "source": [
    "# Task 3\n",
    "\n",
    "Implement a loop with python, SWIG and cython.\n",
    "Compare performance, plot time / number of iterations"
   ]
  },
  {
   "cell_type": "markdown",
   "metadata": {},
   "source": [
    "# Bonus task 1:\n",
    "\n",
    "$\\frac{a}{b} + \\frac{c}{d} = 1$\n",
    "\n",
    "$\\frac{a}{d} + \\frac{c}{b} = 2018$\n",
    "\n",
    "\n",
    "solve for a, b, c, d $\\in$ [1, $\\infty$] in integers.\n",
    "W.r.t. (a + b + c + d) <= 1e17."
   ]
  },
  {
   "cell_type": "markdown",
   "metadata": {},
   "source": [
    "# Bonus task 2:\n",
    "\n",
    "Propose a detailed algorithm for estimating [Avogadro constant](https://en.wikipedia.org/wiki/Avogadro_constant).\n",
    "You can use only the equipment of Avogardo's lifetime (~1776).\n",
    "You can not use electronic microscop, computer vision or . Hint: this time you do not have to program anything :). Only analytical thinking is required."
   ]
  },
  {
   "cell_type": "code",
   "execution_count": null,
   "metadata": {},
   "outputs": [],
   "source": []
  }
 ],
 "metadata": {
  "kernelspec": {
   "display_name": "Python 3",
   "language": "python",
   "name": "python3"
  },
  "language_info": {
   "codemirror_mode": {
    "name": "ipython",
    "version": 3
   },
   "file_extension": ".py",
   "mimetype": "text/x-python",
   "name": "python",
   "nbconvert_exporter": "python",
   "pygments_lexer": "ipython3",
   "version": "3.7.0"
  }
 },
 "nbformat": 4,
 "nbformat_minor": 2
}
