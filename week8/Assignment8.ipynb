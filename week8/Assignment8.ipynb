{
 "cells": [
  {
   "cell_type": "markdown",
   "id": "c37821b2-05b0-4a09-b4ab-e35346192366",
   "metadata": {},
   "source": [
    "# Problem 0. 10 Points\n",
    "\n",
    "Implement Perceptron algorithm for [Iris dataset](https://scikit-learn.org/stable/auto_examples/datasets/plot_iris_dataset.html).\n",
    "\n",
    "Split (`sklearn.model_selection.train_test_split` function might be usefull) the dataset into train and test part.\n",
    "\n",
    "Train your perceptron and report your findings on performance, speed and quality of the perceptron.\n",
    "\n",
    "Don't use ready implementations.\n",
    "\n",
    "__Bonus__\n",
    "\n",
    "Implement Perceptron also C / C++ and cython and compare performance of the algorithms w.r.t. dataset length and the number of features (the resulting quality must be the same, so random inputs can be used)."
   ]
  },
  {
   "cell_type": "code",
   "execution_count": null,
   "id": "92a72c94-d623-4b35-aa89-7f6adbea3442",
   "metadata": {},
   "outputs": [],
   "source": []
  }
 ],
 "metadata": {
  "kernelspec": {
   "display_name": "Python 3 (ipykernel)",
   "language": "python",
   "name": "python3"
  },
  "language_info": {
   "codemirror_mode": {
    "name": "ipython",
    "version": 3
   },
   "file_extension": ".py",
   "mimetype": "text/x-python",
   "name": "python",
   "nbconvert_exporter": "python",
   "pygments_lexer": "ipython3",
   "version": "3.12.0"
  }
 },
 "nbformat": 4,
 "nbformat_minor": 5
}
